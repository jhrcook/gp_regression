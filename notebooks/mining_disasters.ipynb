{
 "cells": [
  {
   "cell_type": "markdown",
   "metadata": {},
   "source": [
    "# Coal Mining Disasters in the UK\n",
    "\n",
    "Consider the following time series of recorded coal mining disasters in the UK from 1851 to 1962 (Jarrett, 1979). The number of disasters is thought to have been affected by changes in safety regulations during this period. \n",
    "\n",
    "Next we will build a model for this series and attempt to estimate changes in the underlying risk of disasters."
   ]
  },
  {
   "cell_type": "code",
   "execution_count": null,
   "metadata": {},
   "outputs": [],
   "source": [
    "import os\n",
    "\n",
    "os.environ[\"MKL_NUM_THREADS\"] = \"1\"\n",
    "os.environ[\"OPENBLAS_NUM_THREADS\"] = \"1\""
   ]
  },
  {
   "cell_type": "code",
   "execution_count": null,
   "metadata": {},
   "outputs": [],
   "source": [
    "%matplotlib inline\n",
    "import arviz as az\n",
    "import numpy as np\n",
    "import numpy.ma as ma\n",
    "import pandas as pd\n",
    "import pymc3 as pm\n",
    "\n",
    "cov = pm.gp.cov\n",
    "\n",
    "from datetime import datetime\n",
    "\n",
    "import matplotlib.pyplot as plt\n",
    "import seaborn as sns\n",
    "\n",
    "sns.set_context(\"notebook\")\n",
    "\n",
    "import warnings\n",
    "\n",
    "warnings.simplefilter(\"ignore\")"
   ]
  },
  {
   "cell_type": "code",
   "execution_count": null,
   "metadata": {},
   "outputs": [],
   "source": [
    "# Time series of recorded coal mining disasters in the UK from 1851 to 1962\n",
    "disasters_data = np.array(\n",
    "    [\n",
    "        4,\n",
    "        5,\n",
    "        4,\n",
    "        0,\n",
    "        1,\n",
    "        4,\n",
    "        3,\n",
    "        4,\n",
    "        0,\n",
    "        6,\n",
    "        3,\n",
    "        3,\n",
    "        4,\n",
    "        0,\n",
    "        2,\n",
    "        6,\n",
    "        3,\n",
    "        3,\n",
    "        5,\n",
    "        4,\n",
    "        5,\n",
    "        3,\n",
    "        1,\n",
    "        4,\n",
    "        4,\n",
    "        1,\n",
    "        5,\n",
    "        5,\n",
    "        3,\n",
    "        4,\n",
    "        2,\n",
    "        5,\n",
    "        2,\n",
    "        2,\n",
    "        3,\n",
    "        4,\n",
    "        2,\n",
    "        1,\n",
    "        3,\n",
    "        2,\n",
    "        2,\n",
    "        1,\n",
    "        1,\n",
    "        1,\n",
    "        1,\n",
    "        3,\n",
    "        0,\n",
    "        0,\n",
    "        1,\n",
    "        0,\n",
    "        1,\n",
    "        1,\n",
    "        0,\n",
    "        0,\n",
    "        3,\n",
    "        1,\n",
    "        0,\n",
    "        3,\n",
    "        2,\n",
    "        2,\n",
    "        0,\n",
    "        1,\n",
    "        1,\n",
    "        1,\n",
    "        0,\n",
    "        1,\n",
    "        0,\n",
    "        1,\n",
    "        0,\n",
    "        0,\n",
    "        0,\n",
    "        2,\n",
    "        1,\n",
    "        0,\n",
    "        0,\n",
    "        0,\n",
    "        1,\n",
    "        1,\n",
    "        0,\n",
    "        2,\n",
    "        3,\n",
    "        3,\n",
    "        1,\n",
    "        1,\n",
    "        2,\n",
    "        1,\n",
    "        1,\n",
    "        1,\n",
    "        1,\n",
    "        2,\n",
    "        4,\n",
    "        2,\n",
    "        0,\n",
    "        0,\n",
    "        1,\n",
    "        4,\n",
    "        0,\n",
    "        0,\n",
    "        0,\n",
    "        1,\n",
    "        0,\n",
    "        0,\n",
    "        0,\n",
    "        0,\n",
    "        0,\n",
    "        1,\n",
    "        0,\n",
    "        0,\n",
    "        1,\n",
    "        0,\n",
    "        1,\n",
    "    ]\n",
    ")\n",
    "year = np.arange(1851, 1962)\n",
    "year_ind = (year - year.min()).reshape(-1, 1)"
   ]
  },
  {
   "cell_type": "code",
   "execution_count": null,
   "metadata": {},
   "outputs": [],
   "source": [
    "fig, ax = plt.subplots(figsize=(14, 4))\n",
    "ax.bar(year, disasters_data, color=\"#348ABD\", alpha=0.65, width=0.7)\n",
    "ax.set_xlim(year[0], year[-1] + 1)\n",
    "ax.set_ylabel(\"Disaster count\")\n",
    "ax.set_xlabel(\"Year\");"
   ]
  },
  {
   "cell_type": "code",
   "execution_count": null,
   "metadata": {},
   "outputs": [],
   "source": [
    "with pm.Model() as disasters_model:\n",
    "\n",
    "    ρ = pm.Exponential(\"ρ\", 1)\n",
    "    η = pm.Exponential(\"η\", 1)\n",
    "\n",
    "    K = η ** 2 * cov.ExpQuad(1, ρ)\n",
    "    gp = pm.gp.Latent(cov_func=K)"
   ]
  },
  {
   "cell_type": "code",
   "execution_count": null,
   "metadata": {},
   "outputs": [],
   "source": [
    "with disasters_model:\n",
    "\n",
    "    f = gp.prior(\"f\", X=year_ind)"
   ]
  },
  {
   "cell_type": "code",
   "execution_count": null,
   "metadata": {},
   "outputs": [],
   "source": [
    "with disasters_model:\n",
    "\n",
    "    λ = pm.Deterministic(\"λ\", pm.math.exp(f))\n",
    "\n",
    "    confirmation = pm.Poisson(\"confirmation\", λ, observed=disasters_data)"
   ]
  },
  {
   "cell_type": "code",
   "execution_count": null,
   "metadata": {},
   "outputs": [],
   "source": [
    "with disasters_model:\n",
    "\n",
    "    trace = pm.sample(1000, tune=1000, chains=2)"
   ]
  },
  {
   "cell_type": "code",
   "execution_count": null,
   "metadata": {},
   "outputs": [],
   "source": [
    "az.plot_posterior(trace, var_names=[\"ρ\", \"η\"]);"
   ]
  },
  {
   "cell_type": "code",
   "execution_count": null,
   "metadata": {},
   "outputs": [],
   "source": [
    "years = year - year.min()"
   ]
  },
  {
   "cell_type": "code",
   "execution_count": null,
   "metadata": {},
   "outputs": [],
   "source": [
    "with disasters_model:\n",
    "    y_pred = pm.sample_posterior_predictive(trace, vars=[f], samples=1000)"
   ]
  },
  {
   "cell_type": "code",
   "execution_count": null,
   "metadata": {},
   "outputs": [],
   "source": [
    "fig, ax = plt.subplots(figsize=(12, 5))\n",
    "\n",
    "pm.gp.util.plot_gp_dist(ax, np.exp(y_pred[\"f\"]), year[:, None])\n",
    "sns.regplot(year, disasters_data, fit_reg=False, ax=ax)\n",
    "ax.set_xlim(year.min(), year.max())\n",
    "ax.set_ylabel(\"Disaster rate\");"
   ]
  }
 ],
 "metadata": {
  "kernelspec": {
   "display_name": "Python 3",
   "language": "python",
   "name": "python3"
  },
  "language_info": {
   "codemirror_mode": {
    "name": "ipython",
    "version": 3
   },
   "file_extension": ".py",
   "mimetype": "text/x-python",
   "name": "python",
   "nbconvert_exporter": "python",
   "pygments_lexer": "ipython3",
   "version": "3.7.4"
  }
 },
 "nbformat": 4,
 "nbformat_minor": 4
}
