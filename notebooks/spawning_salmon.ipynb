{
 "cells": [
  {
   "cell_type": "markdown",
   "metadata": {},
   "source": [
    "# Modeling spawning salmon\n",
    "\n",
    "The plot below shows the relationship between the number of spawning salmon in a particular stream and the number of fry that are recruited into the population in the spring.\n",
    "\n",
    "We would like to model this relationship, which appears to be non-linear (we have biological knowledge that suggests it should be non-linear too).\n",
    "\n",
    "![](images/spawn.jpg)"
   ]
  },
  {
   "cell_type": "code",
   "execution_count": null,
   "metadata": {},
   "outputs": [],
   "source": [
    "import os\n",
    "\n",
    "os.environ[\"MKL_NUM_THREADS\"] = \"1\"\n",
    "os.environ[\"OPENBLAS_NUM_THREADS\"] = \"1\""
   ]
  },
  {
   "cell_type": "code",
   "execution_count": null,
   "metadata": {},
   "outputs": [],
   "source": [
    "%matplotlib inline\n",
    "import warnings\n",
    "\n",
    "import arviz as az\n",
    "import matplotlib.pyplot as plt\n",
    "import numpy as np\n",
    "import pandas as pd\n",
    "import pymc3 as pm\n",
    "\n",
    "warnings.simplefilter(\"ignore\")"
   ]
  },
  {
   "cell_type": "code",
   "execution_count": null,
   "metadata": {},
   "outputs": [],
   "source": [
    "salmon_data = pd.read_table(\"../data/salmon.txt\", sep=r\"\\s+\", index_col=0)\n",
    "salmon_data.plot.scatter(x=\"spawners\", y=\"recruits\", s=50);"
   ]
  },
  {
   "cell_type": "markdown",
   "metadata": {},
   "source": [
    "# Parametric approaches\n",
    "\n",
    "Simple linear regression:\n",
    "\n",
    "$$ y_i = \\beta_0 + \\beta_1 x_i + \\epsilon_i $$\n",
    "\n",
    "$$ \\epsilon_i \\sim N(0, \\sigma) $$\n",
    "\n",
    "There are three unknowns, each of which need to be given a prior:\n",
    "\n",
    "$$\\beta_0, \\beta_1 \\sim \\text{Normal}(0, 50)$$\n",
    "\n",
    "$$\\sigma \\sim \\text{HalfNormal}(50)$$"
   ]
  },
  {
   "cell_type": "code",
   "execution_count": null,
   "metadata": {},
   "outputs": [],
   "source": [
    "a_normal_distribution = pm.Normal.dist(mu=0, sigma=50)\n",
    "plt.hist(a_normal_distribution.random(size=1000));"
   ]
  },
  {
   "cell_type": "code",
   "execution_count": null,
   "metadata": {},
   "outputs": [],
   "source": [
    "a_half_normal_distribution = pm.HalfNormal.dist(sigma=50)\n",
    "plt.hist(a_half_normal_distribution.random(size=1000));"
   ]
  },
  {
   "cell_type": "markdown",
   "metadata": {},
   "source": [
    "Extract our predictor and response variables."
   ]
  },
  {
   "cell_type": "code",
   "execution_count": null,
   "metadata": {},
   "outputs": [],
   "source": [
    "x, y = salmon_data[[\"spawners\", \"recruits\"]].values.T"
   ]
  },
  {
   "cell_type": "markdown",
   "metadata": {},
   "source": [
    "Construct a model in PyMC3."
   ]
  },
  {
   "cell_type": "code",
   "execution_count": null,
   "metadata": {},
   "outputs": [],
   "source": [
    "with pm.Model() as linear_salmon_model:\n",
    "\n",
    "    β = pm.Normal(\"β\", mu=0, sigma=50, shape=2)\n",
    "    σ = pm.HalfNormal(\"σ\", sigma=50)\n",
    "\n",
    "    μ = β[0] + β[1] * x\n",
    "\n",
    "    recruits = pm.Normal(\"recruits\", mu=μ, sigma=σ, observed=y)"
   ]
  },
  {
   "cell_type": "markdown",
   "metadata": {},
   "source": [
    "Fit the model using Markov chain Monte Carlo (MCMC)."
   ]
  },
  {
   "cell_type": "code",
   "execution_count": null,
   "metadata": {},
   "outputs": [],
   "source": [
    "with linear_salmon_model:\n",
    "\n",
    "    linear_trace = pm.sample(1000, tune=2000, cores=2)"
   ]
  },
  {
   "cell_type": "markdown",
   "metadata": {},
   "source": [
    "Examine the posterior distributions of the unknown parameters."
   ]
  },
  {
   "cell_type": "code",
   "execution_count": null,
   "metadata": {},
   "outputs": [],
   "source": [
    "az.plot_trace(linear_trace);"
   ]
  },
  {
   "cell_type": "markdown",
   "metadata": {},
   "source": [
    "Draw posterior samples of the regression line."
   ]
  },
  {
   "cell_type": "code",
   "execution_count": null,
   "metadata": {},
   "outputs": [],
   "source": [
    "X_pred = np.linspace(0, 500, 100)\n",
    "\n",
    "ax = salmon_data.plot.scatter(x=\"spawners\", y=\"recruits\", c=\"k\", s=50)\n",
    "ax.set_ylim(0, None)\n",
    "for b0, b1 in linear_trace[\"β\"][:20]:\n",
    "    ax.plot(X_pred, b0 + b1 * X_pred, alpha=0.3, color=\"seagreen\");"
   ]
  },
  {
   "cell_type": "markdown",
   "metadata": {},
   "source": [
    "### Quadratic Model\n",
    "\n",
    "It appears the linear model is a poor fit to the data. Let's make a polynomial (quadratic) model by adding a parameter for $x^2$."
   ]
  },
  {
   "cell_type": "code",
   "execution_count": null,
   "metadata": {},
   "outputs": [],
   "source": [
    "with pm.Model() as quad_salmon_model:\n",
    "\n",
    "    β = pm.Normal(\"β\", mu=0, sigma=50, shape=3)\n",
    "    σ = pm.HalfNormal(\"σ\", sigma=50)\n",
    "\n",
    "    μ = β[0] + β[1] * x + β[2] * x ** 2\n",
    "\n",
    "    recruits = pm.Normal(\"recruits\", mu=μ, sigma=σ, observed=y)"
   ]
  },
  {
   "cell_type": "code",
   "execution_count": null,
   "metadata": {},
   "outputs": [],
   "source": [
    "with quad_salmon_model:\n",
    "\n",
    "    quad_trace = pm.sample(1000, tune=2000, cores=2, random_seed=1)"
   ]
  },
  {
   "cell_type": "code",
   "execution_count": null,
   "metadata": {},
   "outputs": [],
   "source": [
    "ax = salmon_data.plot.scatter(x=\"spawners\", y=\"recruits\", c=\"k\", s=50)\n",
    "ax.set_ylim(0, None)\n",
    "for b0, b1, b2 in quad_trace[\"β\"][:20]:\n",
    "    ax.plot(X_pred, b0 + b1 * X_pred + b2 * X_pred ** 2, alpha=0.3, color=\"seagreen\");"
   ]
  },
  {
   "cell_type": "markdown",
   "metadata": {},
   "source": [
    "![](images/stop.jpg)\n",
    "\n",
    "Let's go back to the slides ...\n",
    "\n",
    "---"
   ]
  },
  {
   "cell_type": "markdown",
   "metadata": {},
   "source": [
    "## Gaussian Process"
   ]
  },
  {
   "cell_type": "code",
   "execution_count": null,
   "metadata": {},
   "outputs": [],
   "source": [
    "with pm.Model() as gp_salmon_model:\n",
    "\n",
    "    # Lengthscale\n",
    "    ρ = pm.HalfCauchy(\"ρ\", 5)\n",
    "    η = pm.HalfCauchy(\"η\", 5)\n",
    "\n",
    "    M = pm.gp.mean.Linear(coeffs=(salmon_data.recruits / salmon_data.spawners).mean())\n",
    "    K = (η ** 2) * pm.gp.cov.ExpQuad(1, ρ)\n",
    "\n",
    "    σ = pm.HalfNormal(\"σ\", 50)\n",
    "\n",
    "    recruit_gp = pm.gp.Marginal(mean_func=M, cov_func=K)\n",
    "    recruit_gp.marginal_likelihood(\n",
    "        \"recruits\",\n",
    "        X=salmon_data.spawners.values.reshape(-1, 1),\n",
    "        y=salmon_data.recruits.values,\n",
    "        noise=σ,\n",
    "    )"
   ]
  },
  {
   "cell_type": "code",
   "execution_count": null,
   "metadata": {},
   "outputs": [],
   "source": [
    "with gp_salmon_model:\n",
    "    gp_trace = pm.sample(1000, tune=2000, cores=2, random_seed=42)"
   ]
  },
  {
   "cell_type": "code",
   "execution_count": null,
   "metadata": {},
   "outputs": [],
   "source": [
    "az.plot_trace(gp_trace, var_names=[\"ρ\", \"η\", \"σ\"]);"
   ]
  },
  {
   "cell_type": "code",
   "execution_count": null,
   "metadata": {},
   "outputs": [],
   "source": [
    "with gp_salmon_model:\n",
    "    salmon_pred = recruit_gp.conditional(\"salmon_pred\", X_pred.reshape(-1, 1))\n",
    "    gp_salmon_samples = pm.sample_posterior_predictive(\n",
    "        gp_trace, vars=[salmon_pred], samples=3, random_seed=42\n",
    "    )"
   ]
  },
  {
   "cell_type": "code",
   "execution_count": null,
   "metadata": {},
   "outputs": [],
   "source": [
    "ax = salmon_data.plot.scatter(x=\"spawners\", y=\"recruits\", c=\"k\", s=50)\n",
    "ax.set_ylim(0, None)\n",
    "for x in gp_salmon_samples[\"salmon_pred\"]:\n",
    "    ax.plot(X_pred, x);"
   ]
  },
  {
   "cell_type": "code",
   "execution_count": null,
   "metadata": {},
   "outputs": [],
   "source": [
    "with gp_salmon_model:\n",
    "    gp_salmon_samples = pm.sample_posterior_predictive(\n",
    "        gp_trace, vars=[salmon_pred], samples=100, random_seed=42\n",
    "    )"
   ]
  },
  {
   "cell_type": "code",
   "execution_count": null,
   "metadata": {},
   "outputs": [],
   "source": [
    "from pymc3.gp.util import plot_gp_dist\n",
    "\n",
    "fig, ax = plt.subplots(figsize=(8, 6))\n",
    "plot_gp_dist(ax, gp_salmon_samples[\"salmon_pred\"], X_pred)\n",
    "salmon_data.plot.scatter(x=\"spawners\", y=\"recruits\", c=\"k\", s=50, ax=ax)\n",
    "ax.set_ylim(0, 350);"
   ]
  },
  {
   "cell_type": "code",
   "execution_count": null,
   "metadata": {},
   "outputs": [],
   "source": [
    "with gp_salmon_model:\n",
    "    salmon_pred_noise = recruit_gp.conditional(\n",
    "        \"salmon_pred_noise\", X_pred.reshape(-1, 1), pred_noise=True\n",
    "    )\n",
    "    gp_salmon_samples = pm.sample_posterior_predictive(\n",
    "        gp_trace, vars=[salmon_pred_noise], samples=500, random_seed=42\n",
    "    )"
   ]
  },
  {
   "cell_type": "code",
   "execution_count": null,
   "metadata": {},
   "outputs": [],
   "source": [
    "from pymc3.gp.util import plot_gp_dist\n",
    "\n",
    "fig, ax = plt.subplots(figsize=(8, 6))\n",
    "plot_gp_dist(ax, gp_salmon_samples[\"salmon_pred_noise\"], X_pred)\n",
    "salmon_data.plot.scatter(x=\"spawners\", y=\"recruits\", c=\"k\", s=50, ax=ax)\n",
    "ax.set_ylim(0, 350);"
   ]
  },
  {
   "cell_type": "markdown",
   "metadata": {},
   "source": [
    "### Exercise\n",
    "\n",
    "We might be interested in what may happen if the population gets very large -- say, 600 or 800 spawners. We can predict this, though it goes well outside the range of data that we have observed. Generate predictions from the posterior predictive distribution that covers this range of spawners.\n",
    "\n",
    "*Hint: you need to add a new `conditional` variable.*"
   ]
  },
  {
   "cell_type": "code",
   "execution_count": null,
   "metadata": {},
   "outputs": [],
   "source": [
    "# Write answer here"
   ]
  }
 ],
 "metadata": {
  "_draft": {
   "nbviewer_url": "https://gist.github.com/05a9210d3ea6546e14e6fcb8fd10a906"
  },
  "gist": {
   "data": {
    "description": "GP Showdown.ipynb",
    "public": true
   },
   "id": "05a9210d3ea6546e14e6fcb8fd10a906"
  },
  "kernelspec": {
   "display_name": "Python 3",
   "language": "python",
   "name": "python3"
  },
  "language_info": {
   "codemirror_mode": {
    "name": "ipython",
    "version": 3
   },
   "file_extension": ".py",
   "mimetype": "text/x-python",
   "name": "python",
   "nbconvert_exporter": "python",
   "pygments_lexer": "ipython3",
   "version": "3.7.4"
  },
  "latex_envs": {
   "bibliofile": "biblio.bib",
   "cite_by": "apalike",
   "current_citInitial": 1,
   "eqLabelWithNumbers": true,
   "eqNumInitial": 0
  }
 },
 "nbformat": 4,
 "nbformat_minor": 4
}
